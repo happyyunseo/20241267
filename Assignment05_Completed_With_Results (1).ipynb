{
 "cells": [
  {
   "cell_type": "markdown",
   "id": "53af4192",
   "metadata": {},
   "source": [
    "## 문제 3: heap을 이용한 생일이 빠른 친구 10명 출력"
   ]
  },
  {
   "cell_type": "code",
   "execution_count": 1,
   "id": "d67dc35b",
   "metadata": {
    "execution": {
     "iopub.execute_input": "2025-04-12T13:58:14.107340Z",
     "iopub.status.busy": "2025-04-12T13:58:14.106909Z",
     "iopub.status.idle": "2025-04-12T13:58:14.124998Z",
     "shell.execute_reply": "2025-04-12T13:58:14.124011Z"
    }
   },
   "outputs": [
    {
     "name": "stdout",
     "output_type": "stream",
     "text": [
      "🎉 생일이 가장 이른 친구 10명:\n",
      "안양준: 19851205\n",
      "김남은: 20000209\n",
      "박찬미: 20000507\n",
      "김주영: 20000922\n",
      "김연진: 20010826\n",
      "이아현: 20010904\n",
      "김효리: 20011212\n",
      "이우정: 20020324\n",
      "이진: 20020415\n",
      "오다현: 20020505\n"
     ]
    }
   ],
   "source": [
    "import csv\n",
    "import heapq\n",
    "\n",
    "def load_birthdays(filename):\n",
    "    with open(\"birthday.csv\", newline='', encoding='utf-8') as csvfile:\n",
    "        reader = csv.DictReader(csvfile)\n",
    "        return [(int(row['생년월일8자리(예.20040101)']), row['이름']) for row in reader]\n",
    "\n",
    "def get_earliest_birthdays(birthdays, n=10):\n",
    "    return heapq.nsmallest(n, birthdays)\n",
    "\n",
    "data = load_birthdays(\"birthday.csv\")\n",
    "earliest = get_earliest_birthdays(data, 10)\n",
    "\n",
    "print(\"🎉 생일이 가장 이른 친구 10명:\")\n",
    "for birth, name in earliest:\n",
    "    print(f\"{name}: {birth}\")\n"
   ]
  },
  {
   "cell_type": "markdown",
   "id": "0d18ebed",
   "metadata": {},
   "source": [
    "## 문제 4: Circular Doubly Linked List로 조원 출력"
   ]
  },
  {
   "cell_type": "code",
   "execution_count": 2,
   "id": "399a62b2",
   "metadata": {
    "execution": {
     "iopub.execute_input": "2025-04-12T13:58:14.130141Z",
     "iopub.status.busy": "2025-04-12T13:58:14.129513Z",
     "iopub.status.idle": "2025-04-12T13:58:14.142254Z",
     "shell.execute_reply": "2025-04-12T13:58:14.141032Z"
    }
   },
   "outputs": [
    {
     "name": "stdout",
     "output_type": "stream",
     "text": [
      "🔁 Circular List of Teammates:\n",
      "김연진: 20030115\n",
      "변수연: 20030422\n",
      "정윤서: 20030618\n",
      "박서연: 20030827\n",
      "노은서: 20031001\n",
      "오세은: 20031110\n",
      "박성연: 20040105\n",
      "김민경: 20040228\n",
      "김보민: 20040322\n",
      "홍서연: 20040512\n"
     ]
    }
   ],
   "source": [
    "class Node:\n",
    "    def __init__(self, name, birthday):\n",
    "        self.name = name\n",
    "        self.birthday = birthday\n",
    "        self.prev = None\n",
    "        self.next = None\n",
    "\n",
    "class CircularDoublyLinkedList:\n",
    "    def __init__(self):\n",
    "        self.head = None\n",
    "\n",
    "    def append(self, name, birthday):\n",
    "        new_node = Node(name, birthday)\n",
    "        if not self.head:\n",
    "            self.head = new_node\n",
    "            self.head.next = self.head\n",
    "            self.head.prev = self.head\n",
    "        else:\n",
    "            tail = self.head.prev\n",
    "            tail.next = new_node\n",
    "            new_node.prev = tail\n",
    "            new_node.next = self.head\n",
    "            self.head.prev = new_node\n",
    "\n",
    "    def display(self):\n",
    "        current = self.head\n",
    "        if not current:\n",
    "            return\n",
    "        print(\"🔁 Circular List of Teammates:\")\n",
    "        while True:\n",
    "            print(f\"{current.name}: {current.birthday}\")\n",
    "            current = current.next\n",
    "            if current == self.head:\n",
    "                break\n",
    "\n",
    "teammates = [\n",
    "    (\"김연진\", 20030115),\n",
    "    (\"변수연\", 20030422),\n",
    "    (\"정윤서\", 20030618),\n",
    "    (\"박서연\", 20030827),\n",
    "    (\"노은서\", 20031001),\n",
    "    (\"오세은\", 20031110),\n",
    "    (\"박성연\", 20040105),\n",
    "    (\"김민경\", 20040228),\n",
    "    (\"김보민\", 20040322),\n",
    "    (\"홍서연\", 20040512),\n",
    "]\n",
    "\n",
    "cdl = CircularDoublyLinkedList()\n",
    "for name, birthday in teammates:\n",
    "    cdl.append(name, birthday)\n",
    "\n",
    "cdl.display()\n"
   ]
  },
  {
   "cell_type": "markdown",
   "id": "88b7cc96",
   "metadata": {},
   "source": [
    "## 문제 5: 우선순위 큐 연습문제 풀이\n",
    "\n",
    "1. **더 얕은 곳에 있는 원소가 더 깊은 곳보다 작을 수 있다.**  \n",
    "   예: `heap[1] = 7`, `heap[2] = 10`, `heap[5] = 9` → 힙 조건 만족.\n",
    "\n",
    "2. **최대 힙의 마지막 원소가 항상 가장 작은 값은 아니다.**  \n",
    "   예: `heap = [10, 7, 9]` → 힙 조건 만족하며, 가장 마지막 원소가 최소는 아님.\n",
    "\n",
    "3. **스며내리기를 하지 않는 원소 수 계산**  \n",
    "   인덱스는 `(n-2)//2`까지 스며내리기를 하므로, 스며내리를 하지 않는 원소 수는 `n - 1 - (n - 2) // 2`.\n",
    "\n",
    "4. **스며내리기 알고리즘의 시간 복잡도**  \n",
    "   - 최악: `Θ(logn)`  \n",
    "   - 최선: `Θ(1)`\n",
    "\n",
    "5. **마지막 원소 삭제의 복잡성**  \n",
    "   - 단순한 리스트 마지막 원소 삭제는 간단.  \n",
    "   - 하지만 우선순위상 마지막 원소는 위치를 알기 어렵다.  \n",
    "   - 깊이 2짜리 서브 트리를 통해 가장 작은 값을 비교하면 삭제 가능.\n",
    "\n",
    "6. **스며오르기를 통해 build_heap 구현 시 복잡도**  \n",
    "   - 인덱스 1부터 n-1까지 스며오르기 → `Θ(nlogn)`  \n",
    "   - 반면, 스며내리기 기반 build_heap은 `Θ(n)`이므로 더 효율적.\n",
    "\n",
    "7. **힙 내 원소 값 증가에 따른 수선 작업**  \n",
    "   - `delete_max()`: `O(logn)`  \n",
    "   - `insert()`: `O(logn)`  \n",
    "   → 총 `O(logn)` 시간에 힙 수선 가능.\n"
   ]
  },
  {
   "cell_type": "markdown",
   "id": "3d2292f5",
   "metadata": {},
   "source": [
    "## 문제 6: LeetCode 703 - Kth Largest Element in a Stream"
   ]
  },
  {
   "cell_type": "code",
   "execution_count": 3,
   "id": "e7579d5e",
   "metadata": {
    "execution": {
     "iopub.execute_input": "2025-04-12T13:58:14.148158Z",
     "iopub.status.busy": "2025-04-12T13:58:14.147364Z",
     "iopub.status.idle": "2025-04-12T13:58:14.156906Z",
     "shell.execute_reply": "2025-04-12T13:58:14.155975Z"
    }
   },
   "outputs": [
    {
     "name": "stdout",
     "output_type": "stream",
     "text": [
      "4\n",
      "5\n",
      "5\n",
      "8\n",
      "8\n"
     ]
    }
   ],
   "source": [
    "import heapq\n",
    "\n",
    "class KthLargest:\n",
    "    def __init__(self, k, nums):\n",
    "        self.k = k\n",
    "        self.heap = nums\n",
    "        heapq.heapify(self.heap)\n",
    "        while len(self.heap) > k:\n",
    "            heapq.heappop(self.heap)\n",
    "\n",
    "    def add(self, val):\n",
    "        heapq.heappush(self.heap, val)\n",
    "        if len(self.heap) > self.k:\n",
    "            heapq.heappop(self.heap)\n",
    "        return self.heap[0]\n",
    "\n",
    "# 테스트 예제\n",
    "k = 3\n",
    "initial = [4, 5, 8, 2]\n",
    "kth_largest = KthLargest(k, initial)\n",
    "\n",
    "print(kth_largest.add(3))  # 4\n",
    "print(kth_largest.add(5))  # 5\n",
    "print(kth_largest.add(10)) # 5\n",
    "print(kth_largest.add(9))  # 8\n",
    "print(kth_largest.add(4))  # 8\n"
   ]
  }
 ],
 "metadata": {
  "language_info": {
   "codemirror_mode": {
    "name": "ipython",
    "version": 3
   },
   "file_extension": ".py",
   "mimetype": "text/x-python",
   "name": "python",
   "nbconvert_exporter": "python",
   "pygments_lexer": "ipython3",
   "version": "3.11.8"
  }
 },
 "nbformat": 4,
 "nbformat_minor": 5
}
