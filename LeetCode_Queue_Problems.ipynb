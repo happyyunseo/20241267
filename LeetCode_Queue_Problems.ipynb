{
 "cells": [
  {
   "cell_type": "markdown",
   "id": "e3293cd0",
   "metadata": {},
   "source": [
    "# 1. LeetCode 225. Implement Stack using Queues"
   ]
  },
  {
   "cell_type": "code",
   "execution_count": null,
   "id": "6ccc43d5",
   "metadata": {},
   "outputs": [],
   "source": [
    "from collections import deque\n",
    "\n",
    "class MyStack:\n",
    "\n",
    "    def __init__(self):\n",
    "        self.q = deque()\n",
    "\n",
    "    def push(self, x: int) -> None:\n",
    "        self.q.append(x)\n",
    "        for _ in range(len(self.q) - 1):\n",
    "            self.q.append(self.q.popleft())\n",
    "\n",
    "    def pop(self) -> int:\n",
    "        return self.q.popleft()\n",
    "\n",
    "    def top(self) -> int:\n",
    "        return self.q[0]\n",
    "\n",
    "    def empty(self) -> bool:\n",
    "        return not self.q"
   ]
  },
  {
   "cell_type": "markdown",
   "id": "350d6745",
   "metadata": {},
   "source": [
    "## 풀이 해설\n",
    "- 큐(Queue)를 하나만 사용하여 스택(Stack)을 구현합니다.\n",
    "- push 시마다 큐의 순서를 바꿔 가장 마지막에 들어온 원소가 먼저 나오도록 합니다.\n",
    "- pop은 큐에서 popleft, top은 큐의 첫 번째 요소 확인으로 해결합니다."
   ]
  },
  {
   "cell_type": "markdown",
   "id": "68171d25",
   "metadata": {},
   "source": [
    "# 2. LeetCode 232. Implement Queue using Stacks"
   ]
  },
  {
   "cell_type": "code",
   "execution_count": null,
   "id": "abdfdcbe",
   "metadata": {},
   "outputs": [],
   "source": [
    "class MyQueue:\n",
    "\n",
    "    def __init__(self):\n",
    "        self.in_stack = []\n",
    "        self.out_stack = []\n",
    "\n",
    "    def push(self, x: int) -> None:\n",
    "        self.in_stack.append(x)\n",
    "\n",
    "    def pop(self) -> int:\n",
    "        self.peek()\n",
    "        return self.out_stack.pop()\n",
    "\n",
    "    def peek(self) -> int:\n",
    "        if not self.out_stack:\n",
    "            while self.in_stack:\n",
    "                self.out_stack.append(self.in_stack.pop())\n",
    "        return self.out_stack[-1]\n",
    "\n",
    "    def empty(self) -> bool:\n",
    "        return not self.in_stack and not self.out_stack"
   ]
  },
  {
   "cell_type": "markdown",
   "id": "42007962",
   "metadata": {},
   "source": [
    "## 풀이 해설\n",
    "- 두 개의 스택(in_stack, out_stack)을 사용하여 큐를 구현합니다.\n",
    "- push 시에는 in_stack에 저장하고, pop/peek 시에는 out_stack이 비어있으면 in_stack에서 데이터를 옮겨 사용합니다.\n",
    "- 이 구조로 FIFO 구조를 유지할 수 있습니다."
   ]
  },
  {
   "cell_type": "markdown",
   "id": "09016978",
   "metadata": {},
   "source": [
    "# 3. 교재의 큐 연습문제 전부"
   ]
  },
  {
   "cell_type": "markdown",
   "id": "5daafa20",
   "metadata": {},
   "source": [
    "## 교재 큐 연습문제\n",
    "\n",
    "1. 큐의 기본 연산 구현 (enqueue, dequeue, peek, isEmpty 등)  \n",
    "2. 고정 크기 배열로 큐 구현  \n",
    "3. 원형 큐 구현  \n",
    "4. 큐를 사용한 응용 문제 (예: 프린터 대기열 시뮬레이션, BFS 등)\n",
    "\n",
    "> 해당 문제들은 직접 교재를 참고하여 구현 후, 여기에 코드와 함께 풀이 해설을 작성하세요.\n",
    "\n",
    "---\n",
    "\n",
    "### 원형 큐 구현 예시\n",
    "\n",
    "```python\n",
    "class CircularQueue:\n",
    "    def __init__(self, k: int):\n",
    "        self.q = [None] * k\n",
    "        self.max_size = k\n",
    "        self.front = self.rear = -1\n",
    "\n",
    "    def enQueue(self, value: int) -> bool:\n",
    "        if self.isFull():\n",
    "            return False\n",
    "        if self.isEmpty():\n",
    "            self.front = 0\n",
    "        self.rear = (self.rear + 1) % self.max_size\n",
    "        self.q[self.rear] = value\n",
    "        return True\n",
    "\n",
    "    def deQueue(self) -> bool:\n",
    "        if self.isEmpty():\n",
    "            return False\n",
    "        if self.front == self.rear:\n",
    "            self.front = self.rear = -1\n",
    "        else:\n",
    "            self.front = (self.front + 1) % self.max_size\n",
    "        return True\n",
    "\n",
    "    def Front(self) -> int:\n",
    "        return -1 if self.isEmpty() else self.q[self.front]\n",
    "\n",
    "    def Rear(self) -> int:\n",
    "        return -1 if self.isEmpty() else self.q[self.rear]\n",
    "\n",
    "    def isEmpty(self) -> bool:\n",
    "        return self.front == -1\n",
    "\n",
    "    def isFull(self) -> bool:\n",
    "        return (self.rear + 1) % self.max_size == self.front\n",
    "```"
   ]
  }
 ],
 "metadata": {
  "language": "python"
 },
 "nbformat": 4,
 "nbformat_minor": 5
}
