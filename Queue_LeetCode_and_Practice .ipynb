{
 "cells": [
  {
   "cell_type": "markdown",
   "id": "534f43c9",
   "metadata": {},
   "source": [
    "# 1. LeetCode 225. Implement Stack using Queues"
   ]
  },
  {
   "cell_type": "code",
   "execution_count": null,
   "id": "a96a13b3",
   "metadata": {},
   "outputs": [],
   "source": [
    "from collections import deque\n",
    "\n",
    "class MyStack:\n",
    "\n",
    "    def __init__(self):\n",
    "        self.q = deque()\n",
    "\n",
    "    def push(self, x: int) -> None:\n",
    "        self.q.append(x)\n",
    "        for _ in range(len(self.q) - 1):\n",
    "            self.q.append(self.q.popleft())\n",
    "\n",
    "    def pop(self) -> int:\n",
    "        return self.q.popleft()\n",
    "\n",
    "    def top(self) -> int:\n",
    "        return self.q[0]\n",
    "\n",
    "    def empty(self) -> bool:\n",
    "        return not self.q"
   ]
  },
  {
   "cell_type": "markdown",
   "id": "48eae462",
   "metadata": {},
   "source": [
    "# 2. LeetCode 232. Implement Queue using Stacks"
   ]
  },
  {
   "cell_type": "code",
   "execution_count": null,
   "id": "e3b43d25",
   "metadata": {},
   "outputs": [],
   "source": [
    "class MyQueue:\n",
    "\n",
    "    def __init__(self):\n",
    "        self.in_stack = []\n",
    "        self.out_stack = []\n",
    "\n",
    "    def push(self, x: int) -> None:\n",
    "        self.in_stack.append(x)\n",
    "\n",
    "    def pop(self) -> int:\n",
    "        self.peek()\n",
    "        return self.out_stack.pop()\n",
    "\n",
    "    def peek(self) -> int:\n",
    "        if not self.out_stack:\n",
    "            while self.in_stack:\n",
    "                self.out_stack.append(self.in_stack.pop())\n",
    "        return self.out_stack[-1]\n",
    "\n",
    "    def empty(self) -> bool:\n",
    "        return not self.in_stack and not self.out_stack"
   ]
  },
  {
   "cell_type": "markdown",
   "id": "9a0051a6",
   "metadata": {},
   "source": [
    "# 큐 연습 문제"
   ]
  },
  {
   "cell_type": "code",
   "execution_count": null,
   "id": "7fc3711d",
   "metadata": {},
   "outputs": [],
   "source": [
    "01. class ListQueue:\n",
    "\tdef __init__(self):\n",
    "    \tself.__queue = []\n",
    "\n",
    "\tdef enqueue(self, item):\n",
    "\t\tself.__queue.insert(0, item)\n",
    "\n",
    "\tdef dequeue(self):\n",
    "\t\treturn self.__queue.pop()\n",
    "\n",
    "\tdef front(self):\n",
    "\t\tif self.__queue.is_empty():\n",
    "\t\t\treturn None\n",
    "\t\telse:\n",
    "\t\t\treturn self.__queue[len(self.__queue) - 1]\n",
    "\n",
    "\tdef is_empty(self) -> bool:\n",
    "\t\treturn not bool(self.__queue)\n",
    "\n",
    "\tdef dequeue_all(self):\n",
    "\t\tself.__queue.clear()"
   ]
  },
  {
   "cell_type": "code",
   "execution_count": null,
   "id": "071fc0a1",
   "metadata": {},
   "outputs": [],
   "source": [
    "02. def is_in_set(string: String) -> bool:\n",
    "\tq = ListQueue()"
   ]
  },
  {
   "cell_type": "code",
   "execution_count": null,
   "id": "b43bd056",
   "metadata": {},
   "outputs": [],
   "source": [
    "03. def copy_linked_queue(a: LinkedQueue, b: LinkedQueue):\n",
    "\tb.dequeue_all()\n",
    "\ttemp_queue = LinkedQueue()\n",
    "\twhile not a.is_empty():\n",
    "\t\ttemp_queue.enqueue(a.dequeue())\n",
    "\twhile not temp_queue.is_empty():\n",
    "\t\ta.enqueue(temp_queue.front())\n",
    "\t\tb.enqueue(temp_queue.dequeue())"
   ]
  },
  {
   "cell_type": "code",
   "execution_count": null,
   "id": "da08d0d5",
   "metadata": {},
   "outputs": [],
   "source": [
    "04. def push(q1: LinkedQueue, q2: LinkedQueue, item):\n",
    "\tq2.dequeue_all()\n",
    "\twhile not q1.is_empty():\n",
    "\t\tq2.enqueue(q1.dequeue())\n",
    "\tq1.enqueue(item)\n",
    "\twhile not q2.is_empty():\n",
    "\t\tq1.enqueue(q2.dequeue())\n",
    "\n",
    "def pop(q1: LinkedQueue, q2: LinkedQueue):\n",
    "\tq2.dequeue_all()\n",
    "\tcount = 0\n",
    "\twhile not q1.is_empty():\n",
    "\t\tq2.enqueue(q1.dequeue())\n",
    "\t\tcount += 1\n",
    "\twhile _ in range(count - 1):\n",
    "\t\tq1.enqueue(q2.dequeue())\n",
    "\treturn q2.dequeue()"
   ]
  },
  {
   "cell_type": "code",
   "execution_count": null,
   "id": "04b1189d",
   "metadata": {},
   "outputs": [],
   "source": [
    "05. def enqueue(s1: LinkedStack, s2: LinkedStack, item):\n",
    "\ts2.pop_all()\n",
    "\twhile not s1.is_empty():\n",
    "\t\ts2.push(s1.pop())\n",
    "\ts1.push(item)\n",
    "\twhile not s2.is_empty():\n",
    "\t\ts1.push(s2.pop())\n",
    "\n",
    "def dequeue(s1: LinkedStack, s2: LinkedStack):\n",
    "\ts2.pop_all()\n",
    "\twhile not s1.is_empty():\n",
    "\t\ts2.push(s1.pop())\n",
    "\tret_item = s2.pop()\n",
    "\twhile not s2.is_empty():\n",
    "\t\ts1.push(s2.pop())\n",
    "\treturn ret_item"
   ]
  },
  {
   "cell_type": "code",
   "execution_count": null,
   "id": "7964c7e0",
   "metadata": {},
   "outputs": [],
   "source": [
    "06. 구현하고자 하는 Deque는 단방향원형리스트를 기반으로 한다.\n",
    "또한, 이 Deque의 front는 리스트의 맨 앞이며 tail은 리스트의 맨 끝으로 한다.\n",
    "enqueue()의 수행시간은 Deque의 front에서 수행할 시 Θ(1), Deque의 tail에서 수행할 시 Θ(1)이다. 따라서 수행 위치에 상관없이 enqueue()의 수행 시간은 Θ(1)이다.\n",
    "dequeue()의 수행시간은 Deque의 front에서 수행할 시 Θ(1), Deque의 tail에서 수행할 시 Θ(1)이다. 따라서 수행 위치에 상관없이 dequeue()의 수행 시간은 Θ(1)이다."
   ]
  },
  {
   "cell_type": "code",
   "execution_count": null,
   "id": "f8807d62",
   "metadata": {},
   "outputs": [],
   "source": [
    "07. 구현하고자 하는 Deque는 단방향리스트를 기반으로 한다.\n",
    "또한, 이 Deque의 front는 리스트의 맨 앞이며 tail은 리스트의 맨 끝으로 한다.\n",
    "enqueue()의 수행시간은 Deque의 front에서 수행할 시 Θ(1), Deque의 tail에서 수행할 시 Θ(n)이다. 따라서 enqueue()의 수행 시간은 최악의 경우를 고려해 Θ(n)이다.\n",
    "dequeue()의 수행시간은 Deque의 front에서 수행할 시 Θ(1), Deque의 tail에서 수행할 시 Θ(n)이다. 따라서 dequeue()의 수행 시간은 최악의 경우를 고려해 Θ(n)이다."
   ]
  },
  {
   "cell_type": "code",
   "execution_count": null,
   "id": "4413c5d6",
   "metadata": {},
   "outputs": [],
   "source": [
    "08. class ListDeque:\n",
    "    def __init__(self):\n",
    "        self.__queue = []\n",
    "\n",
    "    def enqueue(self, item):\n",
    "        self.__queue.append(item)\n",
    "\n",
    "    def dequeue(self):\n",
    "        return self.__queue.pop(0)\n",
    "\n",
    "    def push(self, item):\n",
    "        self.__queue.insert(0, item)\n",
    "\n",
    "    def pop(self):\n",
    "        return self.__queue.pop(len(self.__queue) - 1)\n",
    "\n",
    "    def front(self):\n",
    "        if self.is_empty():\n",
    "            return None\n",
    "        else:\n",
    "            return self.__queue[0]\n",
    "\n",
    "    def rear(self):\n",
    "        if self.is_empty():\n",
    "            return None\n",
    "        else:\n",
    "            return self.__queue[len(self.__queue) - 1]\n",
    "\n",
    "    def is_empty(self):\n",
    "        return not bool(self.__queue)\n",
    "\n",
    "    def deque_all(self):\n",
    "        self.__queue.clear()\n",
    "\n",
    "    def print_deque(self):\n",
    "        print(\"Dequeue from front:\", end = ' ')\n",
    "        for index in range(len(self.__queue)):\n",
    "            print(self.__queue[index], end = ' ')\n",
    "        print()"
   ]
  },
  {
   "cell_type": "code",
   "execution_count": null,
   "id": "718ba84a",
   "metadata": {},
   "outputs": [],
   "source": [
    "profile\n",
    "nnoobb    index = 0\n",
    "while string[index] != '$':\n",
    "\tq.enqueue(string[index])\n",
    "\tindex += 1\n",
    "index += 1\n",
    "while index < len(string):\n",
    "\tif q.dequeue() != string[index]:\n",
    "\t\treturn False\n",
    "\telse:\n",
    "\t\tindex += 1\n",
    "return True"
   ]
  }
 ],
 "metadata": {
  "language": "python"
 },
 "nbformat": 4,
 "nbformat_minor": 5
}
